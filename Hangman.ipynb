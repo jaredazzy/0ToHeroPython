{
  "nbformat": 4,
  "nbformat_minor": 0,
  "metadata": {
    "colab": {
      "provenance": [],
      "toc_visible": true,
      "authorship_tag": "ABX9TyMfuOwNbswnEjaN21GRdBko",
      "include_colab_link": true
    },
    "kernelspec": {
      "name": "python3",
      "display_name": "Python 3"
    },
    "language_info": {
      "name": "python"
    }
  },
  "cells": [
    {
      "cell_type": "markdown",
      "metadata": {
        "id": "view-in-github",
        "colab_type": "text"
      },
      "source": [
        "<a href=\"https://colab.research.google.com/github/jaredazzy/0ToHeroPython/blob/main/Hangman.ipynb\" target=\"_parent\"><img src=\"https://colab.research.google.com/assets/colab-badge.svg\" alt=\"Open In Colab\"/></a>"
      ]
    },
    {
      "cell_type": "code",
      "source": [
        "stages = ['''\n",
        "  +---+\n",
        "  |   |\n",
        "  O   |\n",
        " /|\\  |\n",
        " / \\  |\n",
        "      |\n",
        "=========\n",
        "''', '''\n",
        "  +---+\n",
        "  |   |\n",
        "  O   |\n",
        " /|\\  |\n",
        " /    |\n",
        "      |\n",
        "=========\n",
        "''', '''\n",
        "  +---+\n",
        "  |   |\n",
        "  O   |\n",
        " /|\\  |\n",
        "      |\n",
        "      |\n",
        "=========\n",
        "''', '''\n",
        "  +---+\n",
        "  |   |\n",
        "  O   |\n",
        " /|   |\n",
        "      |\n",
        "      |\n",
        "=========''', '''\n",
        "  +---+\n",
        "  |   |\n",
        "  O   |\n",
        "  |   |\n",
        "      |\n",
        "      |\n",
        "=========\n",
        "''', '''\n",
        "  +---+\n",
        "  |   |\n",
        "  O   |\n",
        "      |\n",
        "      |\n",
        "      |\n",
        "=========\n",
        "''', '''\n",
        "  +---+\n",
        "  |   |\n",
        "      |\n",
        "      |\n",
        "      |\n",
        "      |\n",
        "=========\n",
        "''']\n",
        "\n",
        "logo = '''\n",
        " _\n",
        "| |\n",
        "| |__   __ _ _ __   __ _ _ __ ___   __ _ _ __\n",
        "| '_ \\ / _` | '_ \\ / _` | '_ ` _ \\ / _` | '_ \\\n",
        "| | | | (_| | | | | (_| | | | | | | (_| | | | |\n",
        "|_| |_|\\__,_|_| |_|\\__, |_| |_| |_|\\__,_|_| |_|\n",
        "                    __/ |\n",
        "                   |___/    '''\n"
      ],
      "metadata": {
        "id": "NBWNaDt6-T4e"
      },
      "execution_count": 1,
      "outputs": []
    },
    {
      "cell_type": "code",
      "source": [
        "word_list=['abruptly', 'absurd', 'abyss', 'affix', 'askew', 'avenue', 'awkward', 'axiom', 'azure', 'bagpipes', 'bandwagon', 'banjo', 'bayou', 'beekeeper', 'bikini', 'blitz', 'blizzard', 'boggle', 'bookworm', 'boxcar', 'boxful', 'buckaroo', 'buffalo', 'buffoon', 'buxom', 'buzzard', 'buzzing', 'buzzwords', 'caliph', 'cobweb', 'cockiness', 'croquet', 'crypt', 'curacao', 'cycle', 'daiquiri', 'dirndl', 'disavow', 'dizzying', 'duplex', 'dwarves', 'embezzle', 'equip', 'espionage', 'euouae', 'exodus', 'faking', 'fishhook', 'fixable', 'fjord', 'flapjack', 'flopping', 'fluffiness', 'flyby', 'foxglove', 'frazzled', 'frizzled', 'fuchsia', 'funny', 'gabby', 'galaxy', 'galvanize', 'gazebo', 'giaour', 'gizmo', 'glowworm', 'glyph', 'gnarly', 'gnostic', 'gossip', 'grogginess', 'haiku', 'haphazard', 'hyphen', 'iatrogenic', 'icebox', 'injury', 'ivory', 'ivy', 'jackpot', 'jaundice', 'jawbreaker', 'jaywalk', 'jazziest', 'jazzy', 'jelly', 'jigsaw', 'jinx', 'jiujitsu', 'jockey', 'jogging', 'joking', 'jovial', 'joyful', 'juicy', 'jukebox', 'jumbo', 'kayak', 'kazoo', 'keyhole', 'khaki', 'kilobyte', 'kiosk', 'kitsch', 'kiwifruit', 'klutz', 'knapsack', 'larynx', 'lengths', 'lucky', 'luxury', 'lymph', 'marquis', 'matrix', 'megahertz', 'microwave', 'mnemonic', 'mystify', 'naphtha', 'nightclub', 'nowadays', 'numbskull', 'nymph', 'onyx', 'ovary', 'oxidize', 'oxygen', 'pajama', 'peekaboo', 'phlegm', 'pixel', 'pizazz', 'pneumonia', 'polka', 'pshaw', 'psyche', 'puppy', 'puzzling', 'quartz', 'queue', 'quips', 'quixotic', 'quiz', 'quizzes', 'quorum', 'razzmatazz', 'rhubarb', 'rhythm', 'rickshaw', 'schnapps', 'scratch', 'shiv', 'snazzy', 'sphinx', 'spritz', 'squawk', 'staff', 'strength', 'strengths', 'stretch', 'stronghold', 'stymied', 'subway', 'swivel', 'syndrome', 'thriftless', 'thumbscrew', 'topaz', 'transcript', 'transgress', 'transplant', 'triphthong', 'twelfth', 'twelfths', 'unknown', 'unworthy', 'unzip', 'uptown', 'vaporize', 'vixen', 'vodka', 'voodoo', 'vortex', 'voyeurism', 'walkway', 'waltz', 'wave', 'wavy', 'waxy', 'wellspring', 'wheezy', 'whiskey', 'whizzing', 'whomever', 'wimpy', 'witchcraft', 'wizard', 'woozy', 'wristwatch', 'wyvern', 'xylophone', 'yachtsman', 'yippee', 'yoked', 'youthful', 'yummy', 'zephyr', 'zigzag', 'zigzagging', 'zilch', 'zipper', 'zodiac', 'zombie']"
      ],
      "metadata": {
        "id": "MPDCbZpc_OS9"
      },
      "execution_count": 2,
      "outputs": []
    },
    {
      "cell_type": "code",
      "source": [
        "import random\n",
        "\n",
        "chosen_word = random.choice(word_list)\n",
        "word_length = len(chosen_word)\n",
        "\n",
        "end_of_game = False\n",
        "lives = 6\n",
        "print(logo)\n",
        "\n",
        "display = []\n",
        "for _ in range(word_length):\n",
        "    display += \"_\"\n",
        "\n",
        "while not end_of_game:\n",
        "    guess = input(\"Guess a letter: \").lower()\n",
        "    if guess in display:\n",
        "        print(f\"You've already guessed {guess}\")\n",
        "    for position in range(word_length):\n",
        "        letter = chosen_word[position]\n",
        "        if letter == guess:\n",
        "            display[position] = letter\n",
        "    if guess not in chosen_word:\n",
        "        print(f\"You guessed {guess}, that's not in the word. You lose a life.\")\n",
        "        lives -= 1\n",
        "        if lives == 0:\n",
        "            end_of_game = True\n",
        "            print(\"You lose.\")\n",
        "    print(f\"{' '.join(display)}\")\n",
        "    if \"_\" not in display:\n",
        "        end_of_game = True\n",
        "        print(\"You win.\")\n",
        "    print(stages[lives])"
      ],
      "metadata": {
        "id": "RfQL0DNV-U4Q"
      },
      "execution_count": null,
      "outputs": []
    }
  ]
}